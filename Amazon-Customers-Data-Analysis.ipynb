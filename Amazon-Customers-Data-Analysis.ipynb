{
 "cells": [
  {
   "cell_type": "code",
   "execution_count": 1,
   "id": "bcbacf2d",
   "metadata": {},
   "outputs": [],
   "source": [
    "import pandas as pd\n",
    "import numpy as np\n",
    "import seaborn as sns\n",
    "import matplotlib.pyplot as plt"
   ]
  },
  {
   "cell_type": "code",
   "execution_count": 2,
   "id": "690006b9",
   "metadata": {},
   "outputs": [],
   "source": [
    "import sqlite3"
   ]
  },
  {
   "cell_type": "code",
   "execution_count": 3,
   "id": "ecf3dfb1",
   "metadata": {},
   "outputs": [],
   "source": [
    "import warnings\n",
    "from warnings import filterwarnings\n",
    "filterwarnings('ignore')"
   ]
  },
  {
   "cell_type": "code",
   "execution_count": 4,
   "id": "f87f3bb1",
   "metadata": {},
   "outputs": [],
   "source": [
    "con = sqlite3.connect(r\"C:\\Users\\Srivathsan\\Downloads\\database.sqlite\")"
   ]
  },
  {
   "cell_type": "code",
   "execution_count": 5,
   "id": "4684cd0d",
   "metadata": {},
   "outputs": [
    {
     "data": {
      "text/plain": [
       "sqlite3.Connection"
      ]
     },
     "execution_count": 5,
     "metadata": {},
     "output_type": "execute_result"
    }
   ],
   "source": [
    "type(con)"
   ]
  },
  {
   "cell_type": "code",
   "execution_count": 6,
   "id": "51e29b8a",
   "metadata": {},
   "outputs": [],
   "source": [
    "df = pd.read_sql_query(\"SELECT * FROM REVIEWS\" , con)"
   ]
  },
  {
   "cell_type": "code",
   "execution_count": 7,
   "id": "172aed9a",
   "metadata": {},
   "outputs": [
    {
     "data": {
      "text/plain": [
       "(568454, 10)"
      ]
     },
     "execution_count": 7,
     "metadata": {},
     "output_type": "execute_result"
    }
   ],
   "source": [
    "df.shape"
   ]
  },
  {
   "cell_type": "code",
   "execution_count": 8,
   "id": "c0c08744",
   "metadata": {},
   "outputs": [
    {
     "data": {
      "text/plain": [
       "Index(['Id', 'ProductId', 'UserId', 'ProfileName', 'HelpfulnessNumerator',\n",
       "       'HelpfulnessDenominator', 'Score', 'Time', 'Summary', 'Text'],\n",
       "      dtype='object')"
      ]
     },
     "execution_count": 8,
     "metadata": {},
     "output_type": "execute_result"
    }
   ],
   "source": [
    "df.columns"
   ]
  },
  {
   "cell_type": "code",
   "execution_count": 9,
   "id": "c415557e",
   "metadata": {},
   "outputs": [
    {
     "data": {
      "text/plain": [
       "0         False\n",
       "1         False\n",
       "2         False\n",
       "3         False\n",
       "4         False\n",
       "          ...  \n",
       "568449    False\n",
       "568450    False\n",
       "568451    False\n",
       "568452    False\n",
       "568453    False\n",
       "Length: 568454, dtype: bool"
      ]
     },
     "execution_count": 9,
     "metadata": {},
     "output_type": "execute_result"
    }
   ],
   "source": [
    "df['HelpfulnessNumerator'] > df['HelpfulnessDenominator'] ##invalid rows"
   ]
  },
  {
   "cell_type": "code",
   "execution_count": 10,
   "id": "35cfc216",
   "metadata": {},
   "outputs": [],
   "source": [
    " df_valid = df[df['HelpfulnessNumerator'] <= df['HelpfulnessDenominator']]"
   ]
  },
  {
   "cell_type": "code",
   "execution_count": 11,
   "id": "926496df",
   "metadata": {},
   "outputs": [
    {
     "data": {
      "text/plain": [
       "(568452, 10)"
      ]
     },
     "execution_count": 11,
     "metadata": {},
     "output_type": "execute_result"
    }
   ],
   "source": [
    "df_valid.shape"
   ]
  },
  {
   "cell_type": "code",
   "execution_count": 12,
   "id": "019dc9ba",
   "metadata": {},
   "outputs": [
    {
     "data": {
      "text/plain": [
       "0         False\n",
       "1         False\n",
       "2         False\n",
       "3         False\n",
       "4         False\n",
       "          ...  \n",
       "568449    False\n",
       "568450    False\n",
       "568451    False\n",
       "568452    False\n",
       "568453    False\n",
       "Length: 568452, dtype: bool"
      ]
     },
     "execution_count": 12,
     "metadata": {},
     "output_type": "execute_result"
    }
   ],
   "source": [
    "df_valid.duplicated(['UserId','ProfileName','Time','Text'])"
   ]
  },
  {
   "cell_type": "code",
   "execution_count": 13,
   "id": "33206de8",
   "metadata": {},
   "outputs": [],
   "source": [
    "data = df_valid.drop_duplicates(subset=['UserId','ProfileName','Time','Text'])"
   ]
  },
  {
   "cell_type": "code",
   "execution_count": 14,
   "id": "6901022e",
   "metadata": {},
   "outputs": [
    {
     "data": {
      "text/plain": [
       "(393931, 10)"
      ]
     },
     "execution_count": 14,
     "metadata": {},
     "output_type": "execute_result"
    }
   ],
   "source": [
    "data.shape"
   ]
  },
  {
   "cell_type": "code",
   "execution_count": 15,
   "id": "69b61b25",
   "metadata": {},
   "outputs": [
    {
     "data": {
      "text/plain": [
       "Id                         int64\n",
       "ProductId                 object\n",
       "UserId                    object\n",
       "ProfileName               object\n",
       "HelpfulnessNumerator       int64\n",
       "HelpfulnessDenominator     int64\n",
       "Score                      int64\n",
       "Time                       int64\n",
       "Summary                   object\n",
       "Text                      object\n",
       "dtype: object"
      ]
     },
     "execution_count": 15,
     "metadata": {},
     "output_type": "execute_result"
    }
   ],
   "source": [
    "data.dtypes"
   ]
  },
  {
   "cell_type": "code",
   "execution_count": 16,
   "id": "e026e6a9",
   "metadata": {},
   "outputs": [],
   "source": [
    "data['Time'] = pd.to_datetime(data['Time'] , unit ='s')"
   ]
  },
  {
   "cell_type": "code",
   "execution_count": null,
   "id": "a6f7fca2",
   "metadata": {},
   "outputs": [],
   "source": []
  },
  {
   "cell_type": "code",
   "execution_count": null,
   "id": "166d96b3",
   "metadata": {},
   "outputs": [],
   "source": []
  },
  {
   "cell_type": "code",
   "execution_count": null,
   "id": "571e17ec",
   "metadata": {},
   "outputs": [],
   "source": []
  },
  {
   "cell_type": "code",
   "execution_count": 21,
   "id": "519570f2",
   "metadata": {},
   "outputs": [
    {
     "data": {
      "text/plain": [
       "256059"
      ]
     },
     "execution_count": 21,
     "metadata": {},
     "output_type": "execute_result"
    }
   ],
   "source": [
    "data['UserId'].nunique()"
   ]
  },
  {
   "cell_type": "code",
   "execution_count": 24,
   "id": "ab6c070c",
   "metadata": {},
   "outputs": [],
   "source": [
    "recommend_df = data.groupby(['UserId']).agg({'Summary' : 'count' , 'Text' : 'count' , 'Score' : 'mean' , 'ProductId' : 'count'}).sort_values(by = 'ProductId' , ascending = False)"
   ]
  },
  {
   "cell_type": "code",
   "execution_count": 25,
   "id": "abd3c9dc",
   "metadata": {},
   "outputs": [
    {
     "data": {
      "text/html": [
       "<div>\n",
       "<style scoped>\n",
       "    .dataframe tbody tr th:only-of-type {\n",
       "        vertical-align: middle;\n",
       "    }\n",
       "\n",
       "    .dataframe tbody tr th {\n",
       "        vertical-align: top;\n",
       "    }\n",
       "\n",
       "    .dataframe thead th {\n",
       "        text-align: right;\n",
       "    }\n",
       "</style>\n",
       "<table border=\"1\" class=\"dataframe\">\n",
       "  <thead>\n",
       "    <tr style=\"text-align: right;\">\n",
       "      <th></th>\n",
       "      <th>Summary</th>\n",
       "      <th>Text</th>\n",
       "      <th>Score</th>\n",
       "      <th>ProductId</th>\n",
       "    </tr>\n",
       "    <tr>\n",
       "      <th>UserId</th>\n",
       "      <th></th>\n",
       "      <th></th>\n",
       "      <th></th>\n",
       "      <th></th>\n",
       "    </tr>\n",
       "  </thead>\n",
       "  <tbody>\n",
       "    <tr>\n",
       "      <th>AY12DBB0U420B</th>\n",
       "      <td>329</td>\n",
       "      <td>329</td>\n",
       "      <td>4.659574</td>\n",
       "      <td>329</td>\n",
       "    </tr>\n",
       "    <tr>\n",
       "      <th>A3OXHLG6DIBRW8</th>\n",
       "      <td>278</td>\n",
       "      <td>278</td>\n",
       "      <td>4.546763</td>\n",
       "      <td>278</td>\n",
       "    </tr>\n",
       "    <tr>\n",
       "      <th>A281NPSIMI1C2R</th>\n",
       "      <td>259</td>\n",
       "      <td>259</td>\n",
       "      <td>4.787645</td>\n",
       "      <td>259</td>\n",
       "    </tr>\n",
       "    <tr>\n",
       "      <th>A1YUL9PCJR3JTY</th>\n",
       "      <td>214</td>\n",
       "      <td>214</td>\n",
       "      <td>4.621495</td>\n",
       "      <td>214</td>\n",
       "    </tr>\n",
       "    <tr>\n",
       "      <th>A1Z54EM24Y40LL</th>\n",
       "      <td>211</td>\n",
       "      <td>211</td>\n",
       "      <td>4.383886</td>\n",
       "      <td>211</td>\n",
       "    </tr>\n",
       "    <tr>\n",
       "      <th>...</th>\n",
       "      <td>...</td>\n",
       "      <td>...</td>\n",
       "      <td>...</td>\n",
       "      <td>...</td>\n",
       "    </tr>\n",
       "    <tr>\n",
       "      <th>A2E80MDB9TCNGW</th>\n",
       "      <td>1</td>\n",
       "      <td>1</td>\n",
       "      <td>3.000000</td>\n",
       "      <td>1</td>\n",
       "    </tr>\n",
       "    <tr>\n",
       "      <th>A2E80RT3HOR35T</th>\n",
       "      <td>1</td>\n",
       "      <td>1</td>\n",
       "      <td>5.000000</td>\n",
       "      <td>1</td>\n",
       "    </tr>\n",
       "    <tr>\n",
       "      <th>A2E816C5N51F6X</th>\n",
       "      <td>1</td>\n",
       "      <td>1</td>\n",
       "      <td>5.000000</td>\n",
       "      <td>1</td>\n",
       "    </tr>\n",
       "    <tr>\n",
       "      <th>A2E81TVIUZI1IC</th>\n",
       "      <td>1</td>\n",
       "      <td>1</td>\n",
       "      <td>5.000000</td>\n",
       "      <td>1</td>\n",
       "    </tr>\n",
       "    <tr>\n",
       "      <th>AZZZOVIBXHGDR</th>\n",
       "      <td>1</td>\n",
       "      <td>1</td>\n",
       "      <td>2.000000</td>\n",
       "      <td>1</td>\n",
       "    </tr>\n",
       "  </tbody>\n",
       "</table>\n",
       "<p>256059 rows × 4 columns</p>\n",
       "</div>"
      ],
      "text/plain": [
       "                Summary  Text     Score  ProductId\n",
       "UserId                                            \n",
       "AY12DBB0U420B       329   329  4.659574        329\n",
       "A3OXHLG6DIBRW8      278   278  4.546763        278\n",
       "A281NPSIMI1C2R      259   259  4.787645        259\n",
       "A1YUL9PCJR3JTY      214   214  4.621495        214\n",
       "A1Z54EM24Y40LL      211   211  4.383886        211\n",
       "...                 ...   ...       ...        ...\n",
       "A2E80MDB9TCNGW        1     1  3.000000          1\n",
       "A2E80RT3HOR35T        1     1  5.000000          1\n",
       "A2E816C5N51F6X        1     1  5.000000          1\n",
       "A2E81TVIUZI1IC        1     1  5.000000          1\n",
       "AZZZOVIBXHGDR         1     1  2.000000          1\n",
       "\n",
       "[256059 rows x 4 columns]"
      ]
     },
     "execution_count": 25,
     "metadata": {},
     "output_type": "execute_result"
    }
   ],
   "source": [
    "recommend_df"
   ]
  },
  {
   "cell_type": "code",
   "execution_count": 32,
   "id": "52c02a1c",
   "metadata": {},
   "outputs": [],
   "source": [
    "recommend_df.columns = ['Number_of_summaries' , 'Num_text' , 'Avg_score' , 'No_of_prods_purchased']"
   ]
  },
  {
   "cell_type": "code",
   "execution_count": 33,
   "id": "88f8059b",
   "metadata": {},
   "outputs": [
    {
     "data": {
      "text/html": [
       "<div>\n",
       "<style scoped>\n",
       "    .dataframe tbody tr th:only-of-type {\n",
       "        vertical-align: middle;\n",
       "    }\n",
       "\n",
       "    .dataframe tbody tr th {\n",
       "        vertical-align: top;\n",
       "    }\n",
       "\n",
       "    .dataframe thead th {\n",
       "        text-align: right;\n",
       "    }\n",
       "</style>\n",
       "<table border=\"1\" class=\"dataframe\">\n",
       "  <thead>\n",
       "    <tr style=\"text-align: right;\">\n",
       "      <th></th>\n",
       "      <th>Number_of_summaries</th>\n",
       "      <th>Num_text</th>\n",
       "      <th>Avg_score</th>\n",
       "      <th>No_of_prods_purchased</th>\n",
       "    </tr>\n",
       "    <tr>\n",
       "      <th>UserId</th>\n",
       "      <th></th>\n",
       "      <th></th>\n",
       "      <th></th>\n",
       "      <th></th>\n",
       "    </tr>\n",
       "  </thead>\n",
       "  <tbody>\n",
       "    <tr>\n",
       "      <th>AY12DBB0U420B</th>\n",
       "      <td>329</td>\n",
       "      <td>329</td>\n",
       "      <td>4.659574</td>\n",
       "      <td>329</td>\n",
       "    </tr>\n",
       "    <tr>\n",
       "      <th>A3OXHLG6DIBRW8</th>\n",
       "      <td>278</td>\n",
       "      <td>278</td>\n",
       "      <td>4.546763</td>\n",
       "      <td>278</td>\n",
       "    </tr>\n",
       "    <tr>\n",
       "      <th>A281NPSIMI1C2R</th>\n",
       "      <td>259</td>\n",
       "      <td>259</td>\n",
       "      <td>4.787645</td>\n",
       "      <td>259</td>\n",
       "    </tr>\n",
       "    <tr>\n",
       "      <th>A1YUL9PCJR3JTY</th>\n",
       "      <td>214</td>\n",
       "      <td>214</td>\n",
       "      <td>4.621495</td>\n",
       "      <td>214</td>\n",
       "    </tr>\n",
       "    <tr>\n",
       "      <th>A1Z54EM24Y40LL</th>\n",
       "      <td>211</td>\n",
       "      <td>211</td>\n",
       "      <td>4.383886</td>\n",
       "      <td>211</td>\n",
       "    </tr>\n",
       "    <tr>\n",
       "      <th>...</th>\n",
       "      <td>...</td>\n",
       "      <td>...</td>\n",
       "      <td>...</td>\n",
       "      <td>...</td>\n",
       "    </tr>\n",
       "    <tr>\n",
       "      <th>A2E80MDB9TCNGW</th>\n",
       "      <td>1</td>\n",
       "      <td>1</td>\n",
       "      <td>3.000000</td>\n",
       "      <td>1</td>\n",
       "    </tr>\n",
       "    <tr>\n",
       "      <th>A2E80RT3HOR35T</th>\n",
       "      <td>1</td>\n",
       "      <td>1</td>\n",
       "      <td>5.000000</td>\n",
       "      <td>1</td>\n",
       "    </tr>\n",
       "    <tr>\n",
       "      <th>A2E816C5N51F6X</th>\n",
       "      <td>1</td>\n",
       "      <td>1</td>\n",
       "      <td>5.000000</td>\n",
       "      <td>1</td>\n",
       "    </tr>\n",
       "    <tr>\n",
       "      <th>A2E81TVIUZI1IC</th>\n",
       "      <td>1</td>\n",
       "      <td>1</td>\n",
       "      <td>5.000000</td>\n",
       "      <td>1</td>\n",
       "    </tr>\n",
       "    <tr>\n",
       "      <th>AZZZOVIBXHGDR</th>\n",
       "      <td>1</td>\n",
       "      <td>1</td>\n",
       "      <td>2.000000</td>\n",
       "      <td>1</td>\n",
       "    </tr>\n",
       "  </tbody>\n",
       "</table>\n",
       "<p>256059 rows × 4 columns</p>\n",
       "</div>"
      ],
      "text/plain": [
       "                Number_of_summaries  Num_text  Avg_score  \\\n",
       "UserId                                                     \n",
       "AY12DBB0U420B                   329       329   4.659574   \n",
       "A3OXHLG6DIBRW8                  278       278   4.546763   \n",
       "A281NPSIMI1C2R                  259       259   4.787645   \n",
       "A1YUL9PCJR3JTY                  214       214   4.621495   \n",
       "A1Z54EM24Y40LL                  211       211   4.383886   \n",
       "...                             ...       ...        ...   \n",
       "A2E80MDB9TCNGW                    1         1   3.000000   \n",
       "A2E80RT3HOR35T                    1         1   5.000000   \n",
       "A2E816C5N51F6X                    1         1   5.000000   \n",
       "A2E81TVIUZI1IC                    1         1   5.000000   \n",
       "AZZZOVIBXHGDR                     1         1   2.000000   \n",
       "\n",
       "                No_of_prods_purchased  \n",
       "UserId                                 \n",
       "AY12DBB0U420B                     329  \n",
       "A3OXHLG6DIBRW8                    278  \n",
       "A281NPSIMI1C2R                    259  \n",
       "A1YUL9PCJR3JTY                    214  \n",
       "A1Z54EM24Y40LL                    211  \n",
       "...                               ...  \n",
       "A2E80MDB9TCNGW                      1  \n",
       "A2E80RT3HOR35T                      1  \n",
       "A2E816C5N51F6X                      1  \n",
       "A2E81TVIUZI1IC                      1  \n",
       "AZZZOVIBXHGDR                       1  \n",
       "\n",
       "[256059 rows x 4 columns]"
      ]
     },
     "execution_count": 33,
     "metadata": {},
     "output_type": "execute_result"
    }
   ],
   "source": [
    "recommend_df"
   ]
  },
  {
   "cell_type": "code",
   "execution_count": 35,
   "id": "4798dec2",
   "metadata": {},
   "outputs": [
    {
     "data": {
      "text/plain": [
       "([0, 1, 2, 3, 4, 5, 6, 7, 8, 9],\n",
       " [Text(0, 0, 'AY12DBB0U420B'),\n",
       "  Text(1, 0, 'A3OXHLG6DIBRW8'),\n",
       "  Text(2, 0, 'A281NPSIMI1C2R'),\n",
       "  Text(3, 0, 'A1YUL9PCJR3JTY'),\n",
       "  Text(4, 0, 'A1Z54EM24Y40LL'),\n",
       "  Text(5, 0, 'A2MUGFV2TDQ47K'),\n",
       "  Text(6, 0, 'A3D6OI36USYOU1'),\n",
       "  Text(7, 0, 'AZV26LP92E6WU'),\n",
       "  Text(8, 0, 'AKMEY1BSHSDG7'),\n",
       "  Text(9, 0, 'A2GEZJHBV92EVR')])"
      ]
     },
     "execution_count": 35,
     "metadata": {},
     "output_type": "execute_result"
    },
    {
     "data": {
      "image/png": "[encoded data removed]",
      "text/plain": [
       "<Figure size 640x480 with 1 Axes>"
      ]
     },
     "metadata": {},
     "output_type": "display_data"
    }
   ],
   "source": [
    "plt.bar(recommend_df.index[:10] , recommend_df['No_of_prods_purchased'][:10].values)\n",
    "plt.xticks(rotation = 'vertical')"
   ]
  },
  {
   "cell_type": "code",
   "execution_count": null,
   "id": "c8972e8d",
   "metadata": {},
   "outputs": [],
   "source": []
  },
  {
   "cell_type": "code",
   "execution_count": null,
   "id": "23f9bcc2",
   "metadata": {},
   "outputs": [],
   "source": []
  },
  {
   "cell_type": "code",
   "execution_count": null,
   "id": "ce3e5d59",
   "metadata": {},
   "outputs": [],
   "source": []
  },
  {
   "cell_type": "code",
   "execution_count": 36,
   "id": "3fbec1f1",
   "metadata": {},
   "outputs": [
    {
     "data": {
      "text/plain": [
       "Index(['Id', 'ProductId', 'UserId', 'ProfileName', 'HelpfulnessNumerator',\n",
       "       'HelpfulnessDenominator', 'Score', 'Time', 'Summary', 'Text'],\n",
       "      dtype='object')"
      ]
     },
     "execution_count": 36,
     "metadata": {},
     "output_type": "execute_result"
    }
   ],
   "source": [
    "data.columns"
   ]
  },
  {
   "cell_type": "code",
   "execution_count": 38,
   "id": "a189ee9f",
   "metadata": {},
   "outputs": [
    {
     "data": {
      "text/plain": [
       "393931"
      ]
     },
     "execution_count": 38,
     "metadata": {},
     "output_type": "execute_result"
    }
   ],
   "source": [
    "len(data['ProductId']) ##can use data['ProductId'].nunique also"
   ]
  },
  {
   "cell_type": "code",
   "execution_count": 42,
   "id": "cc34132b",
   "metadata": {},
   "outputs": [],
   "source": [
    "prod_count = data['ProductId'].value_counts().to_frame()"
   ]
  },
  {
   "cell_type": "code",
   "execution_count": 44,
   "id": "69dc7616",
   "metadata": {},
   "outputs": [
    {
     "data": {
      "text/html": [
       "<div>\n",
       "<style scoped>\n",
       "    .dataframe tbody tr th:only-of-type {\n",
       "        vertical-align: middle;\n",
       "    }\n",
       "\n",
       "    .dataframe tbody tr th {\n",
       "        vertical-align: top;\n",
       "    }\n",
       "\n",
       "    .dataframe thead th {\n",
       "        text-align: right;\n",
       "    }\n",
       "</style>\n",
       "<table border=\"1\" class=\"dataframe\">\n",
       "  <thead>\n",
       "    <tr style=\"text-align: right;\">\n",
       "      <th></th>\n",
       "      <th>ProductId</th>\n",
       "    </tr>\n",
       "  </thead>\n",
       "  <tbody>\n",
       "    <tr>\n",
       "      <th>B007JFMH8M</th>\n",
       "      <td>912</td>\n",
       "    </tr>\n",
       "    <tr>\n",
       "      <th>B002QWP89S</th>\n",
       "      <td>630</td>\n",
       "    </tr>\n",
       "    <tr>\n",
       "      <th>B003B3OOPA</th>\n",
       "      <td>622</td>\n",
       "    </tr>\n",
       "    <tr>\n",
       "      <th>B001EO5Q64</th>\n",
       "      <td>566</td>\n",
       "    </tr>\n",
       "    <tr>\n",
       "      <th>B0013NUGDE</th>\n",
       "      <td>558</td>\n",
       "    </tr>\n",
       "    <tr>\n",
       "      <th>...</th>\n",
       "      <td>...</td>\n",
       "    </tr>\n",
       "    <tr>\n",
       "      <th>B002DNX4GO</th>\n",
       "      <td>1</td>\n",
       "    </tr>\n",
       "    <tr>\n",
       "      <th>B000FM2YU2</th>\n",
       "      <td>1</td>\n",
       "    </tr>\n",
       "    <tr>\n",
       "      <th>B001M1VA32</th>\n",
       "      <td>1</td>\n",
       "    </tr>\n",
       "    <tr>\n",
       "      <th>B009858H6M</th>\n",
       "      <td>1</td>\n",
       "    </tr>\n",
       "    <tr>\n",
       "      <th>B001LR2CU2</th>\n",
       "      <td>1</td>\n",
       "    </tr>\n",
       "  </tbody>\n",
       "</table>\n",
       "<p>67624 rows × 1 columns</p>\n",
       "</div>"
      ],
      "text/plain": [
       "            ProductId\n",
       "B007JFMH8M        912\n",
       "B002QWP89S        630\n",
       "B003B3OOPA        622\n",
       "B001EO5Q64        566\n",
       "B0013NUGDE        558\n",
       "...               ...\n",
       "B002DNX4GO          1\n",
       "B000FM2YU2          1\n",
       "B001M1VA32          1\n",
       "B009858H6M          1\n",
       "B001LR2CU2          1\n",
       "\n",
       "[67624 rows x 1 columns]"
      ]
     },
     "execution_count": 44,
     "metadata": {},
     "output_type": "execute_result"
    }
   ],
   "source": [
    "prod_count"
   ]
  },
  {
   "cell_type": "code",
   "execution_count": 58,
   "id": "795b5669",
   "metadata": {},
   "outputs": [],
   "source": [
    "freq_prod_ids = prod_count[prod_count['ProductId'] > 500].index"
   ]
  },
  {
   "cell_type": "code",
   "execution_count": 59,
   "id": "bddccb71",
   "metadata": {},
   "outputs": [
    {
     "data": {
      "text/plain": [
       "Index(['B007JFMH8M', 'B002QWP89S', 'B003B3OOPA', 'B001EO5Q64', 'B0013NUGDE',\n",
       "       'B000KV61FC', 'B000UBD88A', 'B000NMJWZO', 'B005K4Q37A', 'B0090X8IPM',\n",
       "       'B005ZBZLT4'],\n",
       "      dtype='object')"
      ]
     },
     "execution_count": 59,
     "metadata": {},
     "output_type": "execute_result"
    }
   ],
   "source": [
    "freq_prod_ids"
   ]
  },
  {
   "cell_type": "code",
   "execution_count": 61,
   "id": "b70cf8cc",
   "metadata": {},
   "outputs": [
    {
     "data": {
      "text/plain": [
       "0         False\n",
       "1         False\n",
       "2         False\n",
       "3         False\n",
       "4         False\n",
       "          ...  \n",
       "568449    False\n",
       "568450    False\n",
       "568451    False\n",
       "568452    False\n",
       "568453    False\n",
       "Name: ProductId, Length: 393931, dtype: bool"
      ]
     },
     "execution_count": 61,
     "metadata": {},
     "output_type": "execute_result"
    }
   ],
   "source": [
    "data['ProductId'].isin(freq_prod_ids)"
   ]
  },
  {
   "cell_type": "code",
   "execution_count": 63,
   "id": "e43ed729",
   "metadata": {},
   "outputs": [],
   "source": [
    "freq_prod_df = data[data['ProductId'].isin(freq_prod_ids)]"
   ]
  },
  {
   "cell_type": "code",
   "execution_count": 64,
   "id": "4bbaf868",
   "metadata": {},
   "outputs": [
    {
     "data": {
      "text/html": [
       "<div>\n",
       "<style scoped>\n",
       "    .dataframe tbody tr th:only-of-type {\n",
       "        vertical-align: middle;\n",
       "    }\n",
       "\n",
       "    .dataframe tbody tr th {\n",
       "        vertical-align: top;\n",
       "    }\n",
       "\n",
       "    .dataframe thead th {\n",
       "        text-align: right;\n",
       "    }\n",
       "</style>\n",
       "<table border=\"1\" class=\"dataframe\">\n",
       "  <thead>\n",
       "    <tr style=\"text-align: right;\">\n",
       "      <th></th>\n",
       "      <th>Id</th>\n",
       "      <th>ProductId</th>\n",
       "      <th>UserId</th>\n",
       "      <th>ProfileName</th>\n",
       "      <th>HelpfulnessNumerator</th>\n",
       "      <th>HelpfulnessDenominator</th>\n",
       "      <th>Score</th>\n",
       "      <th>Time</th>\n",
       "      <th>Summary</th>\n",
       "      <th>Text</th>\n",
       "    </tr>\n",
       "  </thead>\n",
       "  <tbody>\n",
       "    <tr>\n",
       "      <th>20982</th>\n",
       "      <td>20983</td>\n",
       "      <td>B002QWP89S</td>\n",
       "      <td>A21U4DR8M6I9QN</td>\n",
       "      <td>K. M Merrill \"justine\"</td>\n",
       "      <td>1</td>\n",
       "      <td>1</td>\n",
       "      <td>5</td>\n",
       "      <td>2011-10-18</td>\n",
       "      <td>addictive! but works for night coughing in dogs</td>\n",
       "      <td>my 12 year old sheltie has chronic brochotitis...</td>\n",
       "    </tr>\n",
       "    <tr>\n",
       "      <th>20983</th>\n",
       "      <td>20984</td>\n",
       "      <td>B002QWP89S</td>\n",
       "      <td>A17TDUBB4Z1PEC</td>\n",
       "      <td>jaded_green</td>\n",
       "      <td>1</td>\n",
       "      <td>1</td>\n",
       "      <td>5</td>\n",
       "      <td>2011-10-14</td>\n",
       "      <td>genuine Greenies best price</td>\n",
       "      <td>These are genuine Greenies product, not a knoc...</td>\n",
       "    </tr>\n",
       "    <tr>\n",
       "      <th>20984</th>\n",
       "      <td>20985</td>\n",
       "      <td>B002QWP89S</td>\n",
       "      <td>ABQH3WAWMSMBH</td>\n",
       "      <td>tenisbrat87</td>\n",
       "      <td>1</td>\n",
       "      <td>1</td>\n",
       "      <td>5</td>\n",
       "      <td>2011-09-28</td>\n",
       "      <td>Perfect for our little doggies</td>\n",
       "      <td>Our dogs love Greenies, but of course, which d...</td>\n",
       "    </tr>\n",
       "    <tr>\n",
       "      <th>20985</th>\n",
       "      <td>20986</td>\n",
       "      <td>B002QWP89S</td>\n",
       "      <td>AVTY5M74VA1BJ</td>\n",
       "      <td>tarotqueen</td>\n",
       "      <td>1</td>\n",
       "      <td>1</td>\n",
       "      <td>5</td>\n",
       "      <td>2011-09-24</td>\n",
       "      <td>dogs love greenies</td>\n",
       "      <td>What can I say, dogs love greenies. They begg ...</td>\n",
       "    </tr>\n",
       "    <tr>\n",
       "      <th>20986</th>\n",
       "      <td>20987</td>\n",
       "      <td>B002QWP89S</td>\n",
       "      <td>A13TNN54ZEAUB1</td>\n",
       "      <td>dcz2221</td>\n",
       "      <td>1</td>\n",
       "      <td>1</td>\n",
       "      <td>5</td>\n",
       "      <td>2011-09-23</td>\n",
       "      <td>Greenies review</td>\n",
       "      <td>This review is for a box of Greenies Lite for ...</td>\n",
       "    </tr>\n",
       "    <tr>\n",
       "      <th>...</th>\n",
       "      <td>...</td>\n",
       "      <td>...</td>\n",
       "      <td>...</td>\n",
       "      <td>...</td>\n",
       "      <td>...</td>\n",
       "      <td>...</td>\n",
       "      <td>...</td>\n",
       "      <td>...</td>\n",
       "      <td>...</td>\n",
       "      <td>...</td>\n",
       "    </tr>\n",
       "    <tr>\n",
       "      <th>563878</th>\n",
       "      <td>563879</td>\n",
       "      <td>B007JFMH8M</td>\n",
       "      <td>A366PSH7KFLRPB</td>\n",
       "      <td>TheRosySnail</td>\n",
       "      <td>0</td>\n",
       "      <td>0</td>\n",
       "      <td>5</td>\n",
       "      <td>2012-07-29</td>\n",
       "      <td>Yummy!</td>\n",
       "      <td>I loved these cookies and so did my kids. You ...</td>\n",
       "    </tr>\n",
       "    <tr>\n",
       "      <th>563879</th>\n",
       "      <td>563880</td>\n",
       "      <td>B007JFMH8M</td>\n",
       "      <td>A2KV6EYQPKJRR5</td>\n",
       "      <td>Kelley</td>\n",
       "      <td>0</td>\n",
       "      <td>0</td>\n",
       "      <td>5</td>\n",
       "      <td>2012-07-28</td>\n",
       "      <td>Quaker Soft Baked Cookies</td>\n",
       "      <td>This is a great tasting cookie. It is very sof...</td>\n",
       "    </tr>\n",
       "    <tr>\n",
       "      <th>563880</th>\n",
       "      <td>563881</td>\n",
       "      <td>B007JFMH8M</td>\n",
       "      <td>A3O7REI0OSV89M</td>\n",
       "      <td>Esme</td>\n",
       "      <td>0</td>\n",
       "      <td>0</td>\n",
       "      <td>4</td>\n",
       "      <td>2012-07-28</td>\n",
       "      <td>Delicious!</td>\n",
       "      <td>These are great for a quick snack! They are sa...</td>\n",
       "    </tr>\n",
       "    <tr>\n",
       "      <th>563881</th>\n",
       "      <td>563882</td>\n",
       "      <td>B007JFMH8M</td>\n",
       "      <td>A9JS5GQQ6GIQT</td>\n",
       "      <td>Syne</td>\n",
       "      <td>0</td>\n",
       "      <td>0</td>\n",
       "      <td>5</td>\n",
       "      <td>2012-07-28</td>\n",
       "      <td>yummy</td>\n",
       "      <td>I love the Quaker soft baked cookies.  The rea...</td>\n",
       "    </tr>\n",
       "    <tr>\n",
       "      <th>563882</th>\n",
       "      <td>563883</td>\n",
       "      <td>B007JFMH8M</td>\n",
       "      <td>AMAVEZAGCH52H</td>\n",
       "      <td>Tangela</td>\n",
       "      <td>0</td>\n",
       "      <td>0</td>\n",
       "      <td>5</td>\n",
       "      <td>2012-07-28</td>\n",
       "      <td>Quaker Soft Baked Cookie</td>\n",
       "      <td>This cookie is really good and works really we...</td>\n",
       "    </tr>\n",
       "  </tbody>\n",
       "</table>\n",
       "<p>6504 rows × 10 columns</p>\n",
       "</div>"
      ],
      "text/plain": [
       "            Id   ProductId          UserId             ProfileName  \\\n",
       "20982    20983  B002QWP89S  A21U4DR8M6I9QN  K. M Merrill \"justine\"   \n",
       "20983    20984  B002QWP89S  A17TDUBB4Z1PEC             jaded_green   \n",
       "20984    20985  B002QWP89S   ABQH3WAWMSMBH             tenisbrat87   \n",
       "20985    20986  B002QWP89S   AVTY5M74VA1BJ              tarotqueen   \n",
       "20986    20987  B002QWP89S  A13TNN54ZEAUB1                 dcz2221   \n",
       "...        ...         ...             ...                     ...   \n",
       "563878  563879  B007JFMH8M  A366PSH7KFLRPB            TheRosySnail   \n",
       "563879  563880  B007JFMH8M  A2KV6EYQPKJRR5                  Kelley   \n",
       "563880  563881  B007JFMH8M  A3O7REI0OSV89M                    Esme   \n",
       "563881  563882  B007JFMH8M   A9JS5GQQ6GIQT                    Syne   \n",
       "563882  563883  B007JFMH8M   AMAVEZAGCH52H                 Tangela   \n",
       "\n",
       "        HelpfulnessNumerator  HelpfulnessDenominator  Score       Time  \\\n",
       "20982                      1                       1      5 2011-10-18   \n",
       "20983                      1                       1      5 2011-10-14   \n",
       "20984                      1                       1      5 2011-09-28   \n",
       "20985                      1                       1      5 2011-09-24   \n",
       "20986                      1                       1      5 2011-09-23   \n",
       "...                      ...                     ...    ...        ...   \n",
       "563878                     0                       0      5 2012-07-29   \n",
       "563879                     0                       0      5 2012-07-28   \n",
       "563880                     0                       0      4 2012-07-28   \n",
       "563881                     0                       0      5 2012-07-28   \n",
       "563882                     0                       0      5 2012-07-28   \n",
       "\n",
       "                                                Summary  \\\n",
       "20982   addictive! but works for night coughing in dogs   \n",
       "20983                       genuine Greenies best price   \n",
       "20984                    Perfect for our little doggies   \n",
       "20985                                dogs love greenies   \n",
       "20986                                   Greenies review   \n",
       "...                                                 ...   \n",
       "563878                                           Yummy!   \n",
       "563879                        Quaker Soft Baked Cookies   \n",
       "563880                                       Delicious!   \n",
       "563881                                            yummy   \n",
       "563882                         Quaker Soft Baked Cookie   \n",
       "\n",
       "                                                     Text  \n",
       "20982   my 12 year old sheltie has chronic brochotitis...  \n",
       "20983   These are genuine Greenies product, not a knoc...  \n",
       "20984   Our dogs love Greenies, but of course, which d...  \n",
       "20985   What can I say, dogs love greenies. They begg ...  \n",
       "20986   This review is for a box of Greenies Lite for ...  \n",
       "...                                                   ...  \n",
       "563878  I loved these cookies and so did my kids. You ...  \n",
       "563879  This is a great tasting cookie. It is very sof...  \n",
       "563880  These are great for a quick snack! They are sa...  \n",
       "563881  I love the Quaker soft baked cookies.  The rea...  \n",
       "563882  This cookie is really good and works really we...  \n",
       "\n",
       "[6504 rows x 10 columns]"
      ]
     },
     "execution_count": 64,
     "metadata": {},
     "output_type": "execute_result"
    }
   ],
   "source": [
    "freq_prod_df"
   ]
  },
  {
   "cell_type": "code",
   "execution_count": 67,
   "id": "86cf88dd",
   "metadata": {},
   "outputs": [
    {
     "data": {
      "text/plain": [
       "<Axes: xlabel='count', ylabel='ProductId'>"
      ]
     },
     "execution_count": 67,
     "metadata": {},
     "output_type": "execute_result"
    },
    {
     "data": {
      "image/png": "[encoded data removed]",
      "text/plain": [
       "<Figure size 640x480 with 1 Axes>"
      ]
     },
     "metadata": {},
     "output_type": "display_data"
    }
   ],
   "source": [
    "sns.countplot(y = 'ProductId' , data = freq_prod_df , hue = 'Score')"
   ]
  },
  {
   "cell_type": "code",
   "execution_count": null,
   "id": "9bf3531e",
   "metadata": {},
   "outputs": [],
   "source": []
  },
  {
   "cell_type": "code",
   "execution_count": null,
   "id": "9795bc22",
   "metadata": {},
   "outputs": [],
   "source": []
  },
  {
   "cell_type": "code",
   "execution_count": null,
   "id": "aed34cce",
   "metadata": {},
   "outputs": [],
   "source": []
  },
  {
   "cell_type": "code",
   "execution_count": 68,
   "id": "f5f022a1",
   "metadata": {},
   "outputs": [
    {
     "data": {
      "text/plain": [
       "Index(['Id', 'ProductId', 'UserId', 'ProfileName', 'HelpfulnessNumerator',\n",
       "       'HelpfulnessDenominator', 'Score', 'Time', 'Summary', 'Text'],\n",
       "      dtype='object')"
      ]
     },
     "execution_count": 68,
     "metadata": {},
     "output_type": "execute_result"
    }
   ],
   "source": [
    "data.columns"
   ]
  },
  {
   "cell_type": "code",
   "execution_count": 74,
   "id": "830c5074",
   "metadata": {},
   "outputs": [],
   "source": [
    "x = data['UserId'].value_counts()"
   ]
  },
  {
   "cell_type": "code",
   "execution_count": 75,
   "id": "a6b21b20",
   "metadata": {},
   "outputs": [
    {
     "data": {
      "text/plain": [
       "AY12DBB0U420B     329\n",
       "A3OXHLG6DIBRW8    278\n",
       "A281NPSIMI1C2R    259\n",
       "A1YUL9PCJR3JTY    214\n",
       "A1Z54EM24Y40LL    211\n",
       "                 ... \n",
       "AAQPR1MSRXKTU       1\n",
       "AGO81Z6PZSF7P       1\n",
       "ALA84XWMTQBFT       1\n",
       "A1G9DK8EUR36JC      1\n",
       "A3LGQPJCZVL9UC      1\n",
       "Name: UserId, Length: 256059, dtype: int64"
      ]
     },
     "execution_count": 75,
     "metadata": {},
     "output_type": "execute_result"
    }
   ],
   "source": [
    "x"
   ]
  },
  {
   "cell_type": "code",
   "execution_count": 77,
   "id": "e1415577",
   "metadata": {},
   "outputs": [],
   "source": [
    "data['viewer_type'] = data['UserId'].apply(lambda user : \"Frequent\" if x[user] > 50 else \"Not Frequent\")"
   ]
  },
  {
   "cell_type": "code",
   "execution_count": 78,
   "id": "899c9c22",
   "metadata": {},
   "outputs": [
    {
     "data": {
      "text/html": [
       "<div>\n",
       "<style scoped>\n",
       "    .dataframe tbody tr th:only-of-type {\n",
       "        vertical-align: middle;\n",
       "    }\n",
       "\n",
       "    .dataframe tbody tr th {\n",
       "        vertical-align: top;\n",
       "    }\n",
       "\n",
       "    .dataframe thead th {\n",
       "        text-align: right;\n",
       "    }\n",
       "</style>\n",
       "<table border=\"1\" class=\"dataframe\">\n",
       "  <thead>\n",
       "    <tr style=\"text-align: right;\">\n",
       "      <th></th>\n",
       "      <th>Id</th>\n",
       "      <th>ProductId</th>\n",
       "      <th>UserId</th>\n",
       "      <th>ProfileName</th>\n",
       "      <th>HelpfulnessNumerator</th>\n",
       "      <th>HelpfulnessDenominator</th>\n",
       "      <th>Score</th>\n",
       "      <th>Time</th>\n",
       "      <th>Summary</th>\n",
       "      <th>Text</th>\n",
       "      <th>viewer_type</th>\n",
       "    </tr>\n",
       "  </thead>\n",
       "  <tbody>\n",
       "    <tr>\n",
       "      <th>0</th>\n",
       "      <td>1</td>\n",
       "      <td>B001E4KFG0</td>\n",
       "      <td>A3SGXH7AUHU8GW</td>\n",
       "      <td>delmartian</td>\n",
       "      <td>1</td>\n",
       "      <td>1</td>\n",
       "      <td>5</td>\n",
       "      <td>2011-04-27</td>\n",
       "      <td>Good Quality Dog Food</td>\n",
       "      <td>I have bought several of the Vitality canned d...</td>\n",
       "      <td>Not Frequent</td>\n",
       "    </tr>\n",
       "    <tr>\n",
       "      <th>1</th>\n",
       "      <td>2</td>\n",
       "      <td>B00813GRG4</td>\n",
       "      <td>A1D87F6ZCVE5NK</td>\n",
       "      <td>dll pa</td>\n",
       "      <td>0</td>\n",
       "      <td>0</td>\n",
       "      <td>1</td>\n",
       "      <td>2012-09-07</td>\n",
       "      <td>Not as Advertised</td>\n",
       "      <td>Product arrived labeled as Jumbo Salted Peanut...</td>\n",
       "      <td>Not Frequent</td>\n",
       "    </tr>\n",
       "    <tr>\n",
       "      <th>2</th>\n",
       "      <td>3</td>\n",
       "      <td>B000LQOCH0</td>\n",
       "      <td>ABXLMWJIXXAIN</td>\n",
       "      <td>Natalia Corres \"Natalia Corres\"</td>\n",
       "      <td>1</td>\n",
       "      <td>1</td>\n",
       "      <td>4</td>\n",
       "      <td>2008-08-18</td>\n",
       "      <td>\"Delight\" says it all</td>\n",
       "      <td>This is a confection that has been around a fe...</td>\n",
       "      <td>Not Frequent</td>\n",
       "    </tr>\n",
       "    <tr>\n",
       "      <th>3</th>\n",
       "      <td>4</td>\n",
       "      <td>B000UA0QIQ</td>\n",
       "      <td>A395BORC6FGVXV</td>\n",
       "      <td>Karl</td>\n",
       "      <td>3</td>\n",
       "      <td>3</td>\n",
       "      <td>2</td>\n",
       "      <td>2011-06-13</td>\n",
       "      <td>Cough Medicine</td>\n",
       "      <td>If you are looking for the secret ingredient i...</td>\n",
       "      <td>Not Frequent</td>\n",
       "    </tr>\n",
       "    <tr>\n",
       "      <th>4</th>\n",
       "      <td>5</td>\n",
       "      <td>B006K2ZZ7K</td>\n",
       "      <td>A1UQRSCLF8GW1T</td>\n",
       "      <td>Michael D. Bigham \"M. Wassir\"</td>\n",
       "      <td>0</td>\n",
       "      <td>0</td>\n",
       "      <td>5</td>\n",
       "      <td>2012-10-21</td>\n",
       "      <td>Great taffy</td>\n",
       "      <td>Great taffy at a great price.  There was a wid...</td>\n",
       "      <td>Not Frequent</td>\n",
       "    </tr>\n",
       "  </tbody>\n",
       "</table>\n",
       "</div>"
      ],
      "text/plain": [
       "   Id   ProductId          UserId                      ProfileName  \\\n",
       "0   1  B001E4KFG0  A3SGXH7AUHU8GW                       delmartian   \n",
       "1   2  B00813GRG4  A1D87F6ZCVE5NK                           dll pa   \n",
       "2   3  B000LQOCH0   ABXLMWJIXXAIN  Natalia Corres \"Natalia Corres\"   \n",
       "3   4  B000UA0QIQ  A395BORC6FGVXV                             Karl   \n",
       "4   5  B006K2ZZ7K  A1UQRSCLF8GW1T    Michael D. Bigham \"M. Wassir\"   \n",
       "\n",
       "   HelpfulnessNumerator  HelpfulnessDenominator  Score       Time  \\\n",
       "0                     1                       1      5 2011-04-27   \n",
       "1                     0                       0      1 2012-09-07   \n",
       "2                     1                       1      4 2008-08-18   \n",
       "3                     3                       3      2 2011-06-13   \n",
       "4                     0                       0      5 2012-10-21   \n",
       "\n",
       "                 Summary                                               Text  \\\n",
       "0  Good Quality Dog Food  I have bought several of the Vitality canned d...   \n",
       "1      Not as Advertised  Product arrived labeled as Jumbo Salted Peanut...   \n",
       "2  \"Delight\" says it all  This is a confection that has been around a fe...   \n",
       "3         Cough Medicine  If you are looking for the secret ingredient i...   \n",
       "4            Great taffy  Great taffy at a great price.  There was a wid...   \n",
       "\n",
       "    viewer_type  \n",
       "0  Not Frequent  \n",
       "1  Not Frequent  \n",
       "2  Not Frequent  \n",
       "3  Not Frequent  \n",
       "4  Not Frequent  "
      ]
     },
     "execution_count": 78,
     "metadata": {},
     "output_type": "execute_result"
    }
   ],
   "source": [
    "data.head()"
   ]
  },
  {
   "cell_type": "code",
   "execution_count": 82,
   "id": "24dde3ac",
   "metadata": {},
   "outputs": [],
   "source": [
    "not_freq_df = data[data['viewer_type'] == 'Not Frequent']\n",
    "freq_df = data[data['viewer_type'] == 'Frequent']"
   ]
  },
  {
   "cell_type": "code",
   "execution_count": 83,
   "id": "8c8fd5e9",
   "metadata": {},
   "outputs": [
    {
     "data": {
      "text/plain": [
       "5    5765\n",
       "4    1979\n",
       "3     897\n",
       "2     368\n",
       "1     349\n",
       "Name: Score, dtype: int64"
      ]
     },
     "execution_count": 83,
     "metadata": {},
     "output_type": "execute_result"
    }
   ],
   "source": [
    "freq_df['Score'].value_counts()"
   ]
  },
  {
   "cell_type": "code",
   "execution_count": 86,
   "id": "1163c249",
   "metadata": {
    "scrolled": true
   },
   "outputs": [
    {
     "data": {
      "text/plain": [
       "<Axes: >"
      ]
     },
     "execution_count": 86,
     "metadata": {},
     "output_type": "execute_result"
    },
    {
     "data": {
      "image/png": "[encoded data removed]",
      "text/plain": [
       "<Figure size 640x480 with 1 Axes>"
      ]
     },
     "metadata": {},
     "output_type": "display_data"
    }
   ],
   "source": [
    "freq_df['Score'].value_counts().plot(kind = 'bar')"
   ]
  },
  {
   "cell_type": "code",
   "execution_count": 89,
   "id": "3b634db9",
   "metadata": {},
   "outputs": [
    {
     "data": {
      "text/plain": [
       "5    61.605044\n",
       "4    21.147681\n",
       "3     9.585381\n",
       "2     3.932464\n",
       "1     3.729429\n",
       "Name: Score, dtype: float64"
      ]
     },
     "execution_count": 89,
     "metadata": {},
     "output_type": "execute_result"
    }
   ],
   "source": [
    "## for percentile:\n",
    "freq_df['Score'].value_counts()/len(freq_df)*100"
   ]
  },
  {
   "cell_type": "code",
   "execution_count": null,
   "id": "cc52b5b1",
   "metadata": {},
   "outputs": [],
   "source": []
  },
  {
   "cell_type": "code",
   "execution_count": null,
   "id": "d897ff2f",
   "metadata": {},
   "outputs": [],
   "source": []
  },
  {
   "cell_type": "code",
   "execution_count": null,
   "id": "62403b23",
   "metadata": {},
   "outputs": [],
   "source": []
  },
  {
   "cell_type": "code",
   "execution_count": 92,
   "id": "55a81171",
   "metadata": {},
   "outputs": [
    {
     "data": {
      "text/html": [
       "<div>\n",
       "<style scoped>\n",
       "    .dataframe tbody tr th:only-of-type {\n",
       "        vertical-align: middle;\n",
       "    }\n",
       "\n",
       "    .dataframe tbody tr th {\n",
       "        vertical-align: top;\n",
       "    }\n",
       "\n",
       "    .dataframe thead th {\n",
       "        text-align: right;\n",
       "    }\n",
       "</style>\n",
       "<table border=\"1\" class=\"dataframe\">\n",
       "  <thead>\n",
       "    <tr style=\"text-align: right;\">\n",
       "      <th></th>\n",
       "      <th>UserId</th>\n",
       "      <th>ProductId</th>\n",
       "      <th>Text</th>\n",
       "    </tr>\n",
       "  </thead>\n",
       "  <tbody>\n",
       "    <tr>\n",
       "      <th>0</th>\n",
       "      <td>A3SGXH7AUHU8GW</td>\n",
       "      <td>B001E4KFG0</td>\n",
       "      <td>I have bought several of the Vitality canned d...</td>\n",
       "    </tr>\n",
       "    <tr>\n",
       "      <th>1</th>\n",
       "      <td>A1D87F6ZCVE5NK</td>\n",
       "      <td>B00813GRG4</td>\n",
       "      <td>Product arrived labeled as Jumbo Salted Peanut...</td>\n",
       "    </tr>\n",
       "    <tr>\n",
       "      <th>2</th>\n",
       "      <td>ABXLMWJIXXAIN</td>\n",
       "      <td>B000LQOCH0</td>\n",
       "      <td>This is a confection that has been around a fe...</td>\n",
       "    </tr>\n",
       "    <tr>\n",
       "      <th>3</th>\n",
       "      <td>A395BORC6FGVXV</td>\n",
       "      <td>B000UA0QIQ</td>\n",
       "      <td>If you are looking for the secret ingredient i...</td>\n",
       "    </tr>\n",
       "    <tr>\n",
       "      <th>4</th>\n",
       "      <td>A1UQRSCLF8GW1T</td>\n",
       "      <td>B006K2ZZ7K</td>\n",
       "      <td>Great taffy at a great price.  There was a wid...</td>\n",
       "    </tr>\n",
       "    <tr>\n",
       "      <th>...</th>\n",
       "      <td>...</td>\n",
       "      <td>...</td>\n",
       "      <td>...</td>\n",
       "    </tr>\n",
       "    <tr>\n",
       "      <th>568449</th>\n",
       "      <td>A28KG5XORO54AY</td>\n",
       "      <td>B001EO7N10</td>\n",
       "      <td>Great for sesame chicken..this is a good if no...</td>\n",
       "    </tr>\n",
       "    <tr>\n",
       "      <th>568450</th>\n",
       "      <td>A3I8AFVPEE8KI5</td>\n",
       "      <td>B003S1WTCU</td>\n",
       "      <td>I'm disappointed with the flavor. The chocolat...</td>\n",
       "    </tr>\n",
       "    <tr>\n",
       "      <th>568451</th>\n",
       "      <td>A121AA1GQV751Z</td>\n",
       "      <td>B004I613EE</td>\n",
       "      <td>These stars are small, so you can give 10-15 o...</td>\n",
       "    </tr>\n",
       "    <tr>\n",
       "      <th>568452</th>\n",
       "      <td>A3IBEVCTXKNOH</td>\n",
       "      <td>B004I613EE</td>\n",
       "      <td>These are the BEST treats for training and rew...</td>\n",
       "    </tr>\n",
       "    <tr>\n",
       "      <th>568453</th>\n",
       "      <td>A3LGQPJCZVL9UC</td>\n",
       "      <td>B001LR2CU2</td>\n",
       "      <td>I am very satisfied ,product is as advertised,...</td>\n",
       "    </tr>\n",
       "  </tbody>\n",
       "</table>\n",
       "<p>393931 rows × 3 columns</p>\n",
       "</div>"
      ],
      "text/plain": [
       "                UserId   ProductId  \\\n",
       "0       A3SGXH7AUHU8GW  B001E4KFG0   \n",
       "1       A1D87F6ZCVE5NK  B00813GRG4   \n",
       "2        ABXLMWJIXXAIN  B000LQOCH0   \n",
       "3       A395BORC6FGVXV  B000UA0QIQ   \n",
       "4       A1UQRSCLF8GW1T  B006K2ZZ7K   \n",
       "...                ...         ...   \n",
       "568449  A28KG5XORO54AY  B001EO7N10   \n",
       "568450  A3I8AFVPEE8KI5  B003S1WTCU   \n",
       "568451  A121AA1GQV751Z  B004I613EE   \n",
       "568452   A3IBEVCTXKNOH  B004I613EE   \n",
       "568453  A3LGQPJCZVL9UC  B001LR2CU2   \n",
       "\n",
       "                                                     Text  \n",
       "0       I have bought several of the Vitality canned d...  \n",
       "1       Product arrived labeled as Jumbo Salted Peanut...  \n",
       "2       This is a confection that has been around a fe...  \n",
       "3       If you are looking for the secret ingredient i...  \n",
       "4       Great taffy at a great price.  There was a wid...  \n",
       "...                                                   ...  \n",
       "568449  Great for sesame chicken..this is a good if no...  \n",
       "568450  I'm disappointed with the flavor. The chocolat...  \n",
       "568451  These stars are small, so you can give 10-15 o...  \n",
       "568452  These are the BEST treats for training and rew...  \n",
       "568453  I am very satisfied ,product is as advertised,...  \n",
       "\n",
       "[393931 rows x 3 columns]"
      ]
     },
     "execution_count": 92,
     "metadata": {},
     "output_type": "execute_result"
    }
   ],
   "source": [
    "data[['UserId' , 'ProductId' , 'Text']]"
   ]
  },
  {
   "cell_type": "code",
   "execution_count": 93,
   "id": "5ba394ee",
   "metadata": {},
   "outputs": [
    {
     "data": {
      "text/plain": [
       "'I have bought several of the Vitality canned dog food products and have found them all to be of good quality. The product looks more like a stew than a processed meat and it smells better. My Labrador is finicky and she appreciates this product better than  most.'"
      ]
     },
     "execution_count": 93,
     "metadata": {},
     "output_type": "execute_result"
    }
   ],
   "source": [
    "data['Text'][0]"
   ]
  },
  {
   "cell_type": "code",
   "execution_count": 96,
   "id": "3b955781",
   "metadata": {},
   "outputs": [
    {
     "data": {
      "text/plain": [
       "49"
      ]
     },
     "execution_count": 96,
     "metadata": {},
     "output_type": "execute_result"
    }
   ],
   "source": [
    "len(data['Text'][0].split(' '))"
   ]
  },
  {
   "cell_type": "code",
   "execution_count": 97,
   "id": "4e34e938",
   "metadata": {},
   "outputs": [],
   "source": [
    "def calculate_length(text):\n",
    "    return len(text.split(' '))"
   ]
  },
  {
   "cell_type": "code",
   "execution_count": 98,
   "id": "38332b03",
   "metadata": {},
   "outputs": [],
   "source": [
    "data['Text_length'] = data['Text'].apply(calculate_length)"
   ]
  },
  {
   "cell_type": "code",
   "execution_count": 99,
   "id": "46bd0494",
   "metadata": {},
   "outputs": [],
   "source": [
    "not_freq_data = data[data['viewer_type'] == 'Not Frequent']\n",
    "freq_data = data[data['viewer_type'] == 'Frequent']"
   ]
  },
  {
   "cell_type": "code",
   "execution_count": 101,
   "id": "a03dbd1b",
   "metadata": {},
   "outputs": [
    {
     "data": {
      "text/html": [
       "<div>\n",
       "<style scoped>\n",
       "    .dataframe tbody tr th:only-of-type {\n",
       "        vertical-align: middle;\n",
       "    }\n",
       "\n",
       "    .dataframe tbody tr th {\n",
       "        vertical-align: top;\n",
       "    }\n",
       "\n",
       "    .dataframe thead th {\n",
       "        text-align: right;\n",
       "    }\n",
       "</style>\n",
       "<table border=\"1\" class=\"dataframe\">\n",
       "  <thead>\n",
       "    <tr style=\"text-align: right;\">\n",
       "      <th></th>\n",
       "      <th>Id</th>\n",
       "      <th>ProductId</th>\n",
       "      <th>UserId</th>\n",
       "      <th>ProfileName</th>\n",
       "      <th>HelpfulnessNumerator</th>\n",
       "      <th>HelpfulnessDenominator</th>\n",
       "      <th>Score</th>\n",
       "      <th>Time</th>\n",
       "      <th>Summary</th>\n",
       "      <th>Text</th>\n",
       "      <th>viewer_type</th>\n",
       "      <th>Text_length</th>\n",
       "    </tr>\n",
       "  </thead>\n",
       "  <tbody>\n",
       "    <tr>\n",
       "      <th>0</th>\n",
       "      <td>1</td>\n",
       "      <td>B001E4KFG0</td>\n",
       "      <td>A3SGXH7AUHU8GW</td>\n",
       "      <td>delmartian</td>\n",
       "      <td>1</td>\n",
       "      <td>1</td>\n",
       "      <td>5</td>\n",
       "      <td>2011-04-27</td>\n",
       "      <td>Good Quality Dog Food</td>\n",
       "      <td>I have bought several of the Vitality canned d...</td>\n",
       "      <td>Not Frequent</td>\n",
       "      <td>49</td>\n",
       "    </tr>\n",
       "    <tr>\n",
       "      <th>1</th>\n",
       "      <td>2</td>\n",
       "      <td>B00813GRG4</td>\n",
       "      <td>A1D87F6ZCVE5NK</td>\n",
       "      <td>dll pa</td>\n",
       "      <td>0</td>\n",
       "      <td>0</td>\n",
       "      <td>1</td>\n",
       "      <td>2012-09-07</td>\n",
       "      <td>Not as Advertised</td>\n",
       "      <td>Product arrived labeled as Jumbo Salted Peanut...</td>\n",
       "      <td>Not Frequent</td>\n",
       "      <td>31</td>\n",
       "    </tr>\n",
       "    <tr>\n",
       "      <th>2</th>\n",
       "      <td>3</td>\n",
       "      <td>B000LQOCH0</td>\n",
       "      <td>ABXLMWJIXXAIN</td>\n",
       "      <td>Natalia Corres \"Natalia Corres\"</td>\n",
       "      <td>1</td>\n",
       "      <td>1</td>\n",
       "      <td>4</td>\n",
       "      <td>2008-08-18</td>\n",
       "      <td>\"Delight\" says it all</td>\n",
       "      <td>This is a confection that has been around a fe...</td>\n",
       "      <td>Not Frequent</td>\n",
       "      <td>99</td>\n",
       "    </tr>\n",
       "    <tr>\n",
       "      <th>3</th>\n",
       "      <td>4</td>\n",
       "      <td>B000UA0QIQ</td>\n",
       "      <td>A395BORC6FGVXV</td>\n",
       "      <td>Karl</td>\n",
       "      <td>3</td>\n",
       "      <td>3</td>\n",
       "      <td>2</td>\n",
       "      <td>2011-06-13</td>\n",
       "      <td>Cough Medicine</td>\n",
       "      <td>If you are looking for the secret ingredient i...</td>\n",
       "      <td>Not Frequent</td>\n",
       "      <td>43</td>\n",
       "    </tr>\n",
       "    <tr>\n",
       "      <th>4</th>\n",
       "      <td>5</td>\n",
       "      <td>B006K2ZZ7K</td>\n",
       "      <td>A1UQRSCLF8GW1T</td>\n",
       "      <td>Michael D. Bigham \"M. Wassir\"</td>\n",
       "      <td>0</td>\n",
       "      <td>0</td>\n",
       "      <td>5</td>\n",
       "      <td>2012-10-21</td>\n",
       "      <td>Great taffy</td>\n",
       "      <td>Great taffy at a great price.  There was a wid...</td>\n",
       "      <td>Not Frequent</td>\n",
       "      <td>30</td>\n",
       "    </tr>\n",
       "    <tr>\n",
       "      <th>...</th>\n",
       "      <td>...</td>\n",
       "      <td>...</td>\n",
       "      <td>...</td>\n",
       "      <td>...</td>\n",
       "      <td>...</td>\n",
       "      <td>...</td>\n",
       "      <td>...</td>\n",
       "      <td>...</td>\n",
       "      <td>...</td>\n",
       "      <td>...</td>\n",
       "      <td>...</td>\n",
       "      <td>...</td>\n",
       "    </tr>\n",
       "    <tr>\n",
       "      <th>568449</th>\n",
       "      <td>568450</td>\n",
       "      <td>B001EO7N10</td>\n",
       "      <td>A28KG5XORO54AY</td>\n",
       "      <td>Lettie D. Carter</td>\n",
       "      <td>0</td>\n",
       "      <td>0</td>\n",
       "      <td>5</td>\n",
       "      <td>2011-03-09</td>\n",
       "      <td>Will not do without</td>\n",
       "      <td>Great for sesame chicken..this is a good if no...</td>\n",
       "      <td>Not Frequent</td>\n",
       "      <td>26</td>\n",
       "    </tr>\n",
       "    <tr>\n",
       "      <th>568450</th>\n",
       "      <td>568451</td>\n",
       "      <td>B003S1WTCU</td>\n",
       "      <td>A3I8AFVPEE8KI5</td>\n",
       "      <td>R. Sawyer</td>\n",
       "      <td>0</td>\n",
       "      <td>0</td>\n",
       "      <td>2</td>\n",
       "      <td>2012-03-09</td>\n",
       "      <td>disappointed</td>\n",
       "      <td>I'm disappointed with the flavor. The chocolat...</td>\n",
       "      <td>Not Frequent</td>\n",
       "      <td>46</td>\n",
       "    </tr>\n",
       "    <tr>\n",
       "      <th>568451</th>\n",
       "      <td>568452</td>\n",
       "      <td>B004I613EE</td>\n",
       "      <td>A121AA1GQV751Z</td>\n",
       "      <td>pksd \"pk_007\"</td>\n",
       "      <td>2</td>\n",
       "      <td>2</td>\n",
       "      <td>5</td>\n",
       "      <td>2012-02-21</td>\n",
       "      <td>Perfect for our maltipoo</td>\n",
       "      <td>These stars are small, so you can give 10-15 o...</td>\n",
       "      <td>Not Frequent</td>\n",
       "      <td>71</td>\n",
       "    </tr>\n",
       "    <tr>\n",
       "      <th>568452</th>\n",
       "      <td>568453</td>\n",
       "      <td>B004I613EE</td>\n",
       "      <td>A3IBEVCTXKNOH</td>\n",
       "      <td>Kathy A. Welch \"katwel\"</td>\n",
       "      <td>1</td>\n",
       "      <td>1</td>\n",
       "      <td>5</td>\n",
       "      <td>2012-03-13</td>\n",
       "      <td>Favorite Training and reward treat</td>\n",
       "      <td>These are the BEST treats for training and rew...</td>\n",
       "      <td>Not Frequent</td>\n",
       "      <td>37</td>\n",
       "    </tr>\n",
       "    <tr>\n",
       "      <th>568453</th>\n",
       "      <td>568454</td>\n",
       "      <td>B001LR2CU2</td>\n",
       "      <td>A3LGQPJCZVL9UC</td>\n",
       "      <td>srfell17</td>\n",
       "      <td>0</td>\n",
       "      <td>0</td>\n",
       "      <td>5</td>\n",
       "      <td>2012-05-31</td>\n",
       "      <td>Great Honey</td>\n",
       "      <td>I am very satisfied ,product is as advertised,...</td>\n",
       "      <td>Not Frequent</td>\n",
       "      <td>21</td>\n",
       "    </tr>\n",
       "  </tbody>\n",
       "</table>\n",
       "<p>384573 rows × 12 columns</p>\n",
       "</div>"
      ],
      "text/plain": [
       "            Id   ProductId          UserId                      ProfileName  \\\n",
       "0            1  B001E4KFG0  A3SGXH7AUHU8GW                       delmartian   \n",
       "1            2  B00813GRG4  A1D87F6ZCVE5NK                           dll pa   \n",
       "2            3  B000LQOCH0   ABXLMWJIXXAIN  Natalia Corres \"Natalia Corres\"   \n",
       "3            4  B000UA0QIQ  A395BORC6FGVXV                             Karl   \n",
       "4            5  B006K2ZZ7K  A1UQRSCLF8GW1T    Michael D. Bigham \"M. Wassir\"   \n",
       "...        ...         ...             ...                              ...   \n",
       "568449  568450  B001EO7N10  A28KG5XORO54AY                 Lettie D. Carter   \n",
       "568450  568451  B003S1WTCU  A3I8AFVPEE8KI5                        R. Sawyer   \n",
       "568451  568452  B004I613EE  A121AA1GQV751Z                    pksd \"pk_007\"   \n",
       "568452  568453  B004I613EE   A3IBEVCTXKNOH          Kathy A. Welch \"katwel\"   \n",
       "568453  568454  B001LR2CU2  A3LGQPJCZVL9UC                         srfell17   \n",
       "\n",
       "        HelpfulnessNumerator  HelpfulnessDenominator  Score       Time  \\\n",
       "0                          1                       1      5 2011-04-27   \n",
       "1                          0                       0      1 2012-09-07   \n",
       "2                          1                       1      4 2008-08-18   \n",
       "3                          3                       3      2 2011-06-13   \n",
       "4                          0                       0      5 2012-10-21   \n",
       "...                      ...                     ...    ...        ...   \n",
       "568449                     0                       0      5 2011-03-09   \n",
       "568450                     0                       0      2 2012-03-09   \n",
       "568451                     2                       2      5 2012-02-21   \n",
       "568452                     1                       1      5 2012-03-13   \n",
       "568453                     0                       0      5 2012-05-31   \n",
       "\n",
       "                                   Summary  \\\n",
       "0                    Good Quality Dog Food   \n",
       "1                        Not as Advertised   \n",
       "2                    \"Delight\" says it all   \n",
       "3                           Cough Medicine   \n",
       "4                              Great taffy   \n",
       "...                                    ...   \n",
       "568449                 Will not do without   \n",
       "568450                        disappointed   \n",
       "568451            Perfect for our maltipoo   \n",
       "568452  Favorite Training and reward treat   \n",
       "568453                         Great Honey   \n",
       "\n",
       "                                                     Text   viewer_type  \\\n",
       "0       I have bought several of the Vitality canned d...  Not Frequent   \n",
       "1       Product arrived labeled as Jumbo Salted Peanut...  Not Frequent   \n",
       "2       This is a confection that has been around a fe...  Not Frequent   \n",
       "3       If you are looking for the secret ingredient i...  Not Frequent   \n",
       "4       Great taffy at a great price.  There was a wid...  Not Frequent   \n",
       "...                                                   ...           ...   \n",
       "568449  Great for sesame chicken..this is a good if no...  Not Frequent   \n",
       "568450  I'm disappointed with the flavor. The chocolat...  Not Frequent   \n",
       "568451  These stars are small, so you can give 10-15 o...  Not Frequent   \n",
       "568452  These are the BEST treats for training and rew...  Not Frequent   \n",
       "568453  I am very satisfied ,product is as advertised,...  Not Frequent   \n",
       "\n",
       "        Text_length  \n",
       "0                49  \n",
       "1                31  \n",
       "2                99  \n",
       "3                43  \n",
       "4                30  \n",
       "...             ...  \n",
       "568449           26  \n",
       "568450           46  \n",
       "568451           71  \n",
       "568452           37  \n",
       "568453           21  \n",
       "\n",
       "[384573 rows x 12 columns]"
      ]
     },
     "execution_count": 101,
     "metadata": {},
     "output_type": "execute_result"
    }
   ],
   "source": [
    "not_freq_data"
   ]
  },
  {
   "cell_type": "code",
   "execution_count": 105,
   "id": "dc73b6a1",
   "metadata": {},
   "outputs": [
    {
     "data": {
      "text/plain": [
       "(0.0, 600.0)"
      ]
     },
     "execution_count": 105,
     "metadata": {},
     "output_type": "execute_result"
    },
    {
     "data": {
      "image/png": "[encoded data removed]",
      "text/plain": [
       "<Figure size 640x480 with 2 Axes>"
      ]
     },
     "metadata": {},
     "output_type": "display_data"
    }
   ],
   "source": [
    "fig = plt.figure()\n",
    "\n",
    "ax1 = fig.add_subplot(121)\n",
    "ax1.boxplot(freq_data['Text_length'])\n",
    "ax1.set_xlabel('Freq of freq reviewers')\n",
    "ax1.set_ylim(0,600)\n",
    "\n",
    "\n",
    "ax2 = fig.add_subplot(122)\n",
    "ax2.boxplot(not_freq_data['Text_length'])\n",
    "ax2.set_xlabel('Freq of non-freq reviewers')\n",
    "ax2.set_ylim(0,600)"
   ]
  },
  {
   "cell_type": "code",
   "execution_count": null,
   "id": "00d0414f",
   "metadata": {},
   "outputs": [],
   "source": []
  },
  {
   "cell_type": "code",
   "execution_count": null,
   "id": "12a8fe9a",
   "metadata": {},
   "outputs": [],
   "source": []
  },
  {
   "cell_type": "code",
   "execution_count": null,
   "id": "e5017004",
   "metadata": {},
   "outputs": [],
   "source": []
  },
  {
   "cell_type": "code",
   "execution_count": 107,
   "id": "8d082415",
   "metadata": {},
   "outputs": [
    {
     "name": "stdout",
     "output_type": "stream",
     "text": [
      "Collecting textblob\n",
      "  Downloading textblob-0.17.1-py2.py3-none-any.whl (636 kB)\n",
      "                                              0.0/636.8 kB ? eta -:--:--\n",
      "     ----                                    71.7/636.8 kB 1.9 MB/s eta 0:00:01\n",
      "     ----------                             174.1/636.8 kB 2.1 MB/s eta 0:00:01\n",
      "     ----------------                       276.5/636.8 kB 2.1 MB/s eta 0:00:01\n",
      "     ---------------------                  358.4/636.8 kB 2.0 MB/s eta 0:00:01\n",
      "     ---------------------------            460.8/636.8 kB 1.9 MB/s eta 0:00:01\n",
      "     ---------------------------------      563.2/636.8 kB 2.1 MB/s eta 0:00:01\n",
      "     -------------------------------------- 636.8/636.8 kB 2.0 MB/s eta 0:00:00\n",
      "Requirement already satisfied: nltk>=3.1 in c:\\users\\srivathsan\\anaconda3\\lib\\site-packages (from textblob) (3.7)\n",
      "Requirement already satisfied: click in c:\\users\\srivathsan\\anaconda3\\lib\\site-packages (from nltk>=3.1->textblob) (8.0.4)\n",
      "Requirement already satisfied: joblib in c:\\users\\srivathsan\\anaconda3\\lib\\site-packages (from nltk>=3.1->textblob) (1.2.0)\n",
      "Requirement already satisfied: regex>=2021.8.3 in c:\\users\\srivathsan\\anaconda3\\lib\\site-packages (from nltk>=3.1->textblob) (2022.7.9)\n",
      "Requirement already satisfied: tqdm in c:\\users\\srivathsan\\anaconda3\\lib\\site-packages (from nltk>=3.1->textblob) (4.65.0)\n",
      "Requirement already satisfied: colorama in c:\\users\\srivathsan\\anaconda3\\lib\\site-packages (from click->nltk>=3.1->textblob) (0.4.6)\n",
      "Installing collected packages: textblob\n",
      "Successfully installed textblob-0.17.1\n"
     ]
    }
   ],
   "source": [
    "!pip install textblob"
   ]
  },
  {
   "cell_type": "code",
   "execution_count": 109,
   "id": "c74dabed",
   "metadata": {},
   "outputs": [],
   "source": [
    "from textblob import TextBlob"
   ]
  },
  {
   "cell_type": "code",
   "execution_count": 110,
   "id": "ed8e92a0",
   "metadata": {},
   "outputs": [
    {
     "data": {
      "text/plain": [
       "(393931, 12)"
      ]
     },
     "execution_count": 110,
     "metadata": {},
     "output_type": "execute_result"
    }
   ],
   "source": [
    "data.shape"
   ]
  },
  {
   "cell_type": "code",
   "execution_count": 111,
   "id": "e63fcf20",
   "metadata": {},
   "outputs": [],
   "source": [
    "sample = data[:50000]"
   ]
  },
  {
   "cell_type": "code",
   "execution_count": 125,
   "id": "6126c6a3",
   "metadata": {},
   "outputs": [],
   "source": [
    "polarity = []\n",
    "\n",
    "for text in sample['Summary']:\n",
    "    try:\n",
    "        polarity.append(TextBlob(text).sentiment.polarity)\n",
    "    except:\n",
    "        polarity.append(0)"
   ]
  },
  {
   "cell_type": "code",
   "execution_count": 126,
   "id": "9cca9a23",
   "metadata": {},
   "outputs": [
    {
     "data": {
      "text/plain": [
       "50000"
      ]
     },
     "execution_count": 126,
     "metadata": {},
     "output_type": "execute_result"
    }
   ],
   "source": [
    "len(polarity)"
   ]
  },
  {
   "cell_type": "code",
   "execution_count": 127,
   "id": "f39c385c",
   "metadata": {},
   "outputs": [],
   "source": [
    "sample['Polarity'] = polarity"
   ]
  },
  {
   "cell_type": "code",
   "execution_count": 128,
   "id": "5cdede20",
   "metadata": {},
   "outputs": [
    {
     "data": {
      "text/html": [
       "<div>\n",
       "<style scoped>\n",
       "    .dataframe tbody tr th:only-of-type {\n",
       "        vertical-align: middle;\n",
       "    }\n",
       "\n",
       "    .dataframe tbody tr th {\n",
       "        vertical-align: top;\n",
       "    }\n",
       "\n",
       "    .dataframe thead th {\n",
       "        text-align: right;\n",
       "    }\n",
       "</style>\n",
       "<table border=\"1\" class=\"dataframe\">\n",
       "  <thead>\n",
       "    <tr style=\"text-align: right;\">\n",
       "      <th></th>\n",
       "      <th>Id</th>\n",
       "      <th>ProductId</th>\n",
       "      <th>UserId</th>\n",
       "      <th>ProfileName</th>\n",
       "      <th>HelpfulnessNumerator</th>\n",
       "      <th>HelpfulnessDenominator</th>\n",
       "      <th>Score</th>\n",
       "      <th>Time</th>\n",
       "      <th>Summary</th>\n",
       "      <th>Text</th>\n",
       "      <th>viewer_type</th>\n",
       "      <th>Text_length</th>\n",
       "      <th>Polarity</th>\n",
       "    </tr>\n",
       "  </thead>\n",
       "  <tbody>\n",
       "    <tr>\n",
       "      <th>0</th>\n",
       "      <td>1</td>\n",
       "      <td>B001E4KFG0</td>\n",
       "      <td>A3SGXH7AUHU8GW</td>\n",
       "      <td>delmartian</td>\n",
       "      <td>1</td>\n",
       "      <td>1</td>\n",
       "      <td>5</td>\n",
       "      <td>2011-04-27</td>\n",
       "      <td>Good Quality Dog Food</td>\n",
       "      <td>I have bought several of the Vitality canned d...</td>\n",
       "      <td>Not Frequent</td>\n",
       "      <td>49</td>\n",
       "      <td>0.7</td>\n",
       "    </tr>\n",
       "    <tr>\n",
       "      <th>1</th>\n",
       "      <td>2</td>\n",
       "      <td>B00813GRG4</td>\n",
       "      <td>A1D87F6ZCVE5NK</td>\n",
       "      <td>dll pa</td>\n",
       "      <td>0</td>\n",
       "      <td>0</td>\n",
       "      <td>1</td>\n",
       "      <td>2012-09-07</td>\n",
       "      <td>Not as Advertised</td>\n",
       "      <td>Product arrived labeled as Jumbo Salted Peanut...</td>\n",
       "      <td>Not Frequent</td>\n",
       "      <td>31</td>\n",
       "      <td>0.0</td>\n",
       "    </tr>\n",
       "    <tr>\n",
       "      <th>2</th>\n",
       "      <td>3</td>\n",
       "      <td>B000LQOCH0</td>\n",
       "      <td>ABXLMWJIXXAIN</td>\n",
       "      <td>Natalia Corres \"Natalia Corres\"</td>\n",
       "      <td>1</td>\n",
       "      <td>1</td>\n",
       "      <td>4</td>\n",
       "      <td>2008-08-18</td>\n",
       "      <td>\"Delight\" says it all</td>\n",
       "      <td>This is a confection that has been around a fe...</td>\n",
       "      <td>Not Frequent</td>\n",
       "      <td>99</td>\n",
       "      <td>0.0</td>\n",
       "    </tr>\n",
       "    <tr>\n",
       "      <th>3</th>\n",
       "      <td>4</td>\n",
       "      <td>B000UA0QIQ</td>\n",
       "      <td>A395BORC6FGVXV</td>\n",
       "      <td>Karl</td>\n",
       "      <td>3</td>\n",
       "      <td>3</td>\n",
       "      <td>2</td>\n",
       "      <td>2011-06-13</td>\n",
       "      <td>Cough Medicine</td>\n",
       "      <td>If you are looking for the secret ingredient i...</td>\n",
       "      <td>Not Frequent</td>\n",
       "      <td>43</td>\n",
       "      <td>0.0</td>\n",
       "    </tr>\n",
       "    <tr>\n",
       "      <th>4</th>\n",
       "      <td>5</td>\n",
       "      <td>B006K2ZZ7K</td>\n",
       "      <td>A1UQRSCLF8GW1T</td>\n",
       "      <td>Michael D. Bigham \"M. Wassir\"</td>\n",
       "      <td>0</td>\n",
       "      <td>0</td>\n",
       "      <td>5</td>\n",
       "      <td>2012-10-21</td>\n",
       "      <td>Great taffy</td>\n",
       "      <td>Great taffy at a great price.  There was a wid...</td>\n",
       "      <td>Not Frequent</td>\n",
       "      <td>30</td>\n",
       "      <td>0.8</td>\n",
       "    </tr>\n",
       "  </tbody>\n",
       "</table>\n",
       "</div>"
      ],
      "text/plain": [
       "   Id   ProductId          UserId                      ProfileName  \\\n",
       "0   1  B001E4KFG0  A3SGXH7AUHU8GW                       delmartian   \n",
       "1   2  B00813GRG4  A1D87F6ZCVE5NK                           dll pa   \n",
       "2   3  B000LQOCH0   ABXLMWJIXXAIN  Natalia Corres \"Natalia Corres\"   \n",
       "3   4  B000UA0QIQ  A395BORC6FGVXV                             Karl   \n",
       "4   5  B006K2ZZ7K  A1UQRSCLF8GW1T    Michael D. Bigham \"M. Wassir\"   \n",
       "\n",
       "   HelpfulnessNumerator  HelpfulnessDenominator  Score       Time  \\\n",
       "0                     1                       1      5 2011-04-27   \n",
       "1                     0                       0      1 2012-09-07   \n",
       "2                     1                       1      4 2008-08-18   \n",
       "3                     3                       3      2 2011-06-13   \n",
       "4                     0                       0      5 2012-10-21   \n",
       "\n",
       "                 Summary                                               Text  \\\n",
       "0  Good Quality Dog Food  I have bought several of the Vitality canned d...   \n",
       "1      Not as Advertised  Product arrived labeled as Jumbo Salted Peanut...   \n",
       "2  \"Delight\" says it all  This is a confection that has been around a fe...   \n",
       "3         Cough Medicine  If you are looking for the secret ingredient i...   \n",
       "4            Great taffy  Great taffy at a great price.  There was a wid...   \n",
       "\n",
       "    viewer_type  Text_length  Polarity  \n",
       "0  Not Frequent           49       0.7  \n",
       "1  Not Frequent           31       0.0  \n",
       "2  Not Frequent           99       0.0  \n",
       "3  Not Frequent           43       0.0  \n",
       "4  Not Frequent           30       0.8  "
      ]
     },
     "execution_count": 128,
     "metadata": {},
     "output_type": "execute_result"
    }
   ],
   "source": [
    "sample.head()"
   ]
  },
  {
   "cell_type": "code",
   "execution_count": 129,
   "id": "ab162d08",
   "metadata": {},
   "outputs": [],
   "source": [
    "sample_negative = sample[sample['Polarity'] < 0]\n",
    "\n",
    "sample_positive = sample[sample['Polarity'] > 0]"
   ]
  },
  {
   "cell_type": "code",
   "execution_count": 130,
   "id": "e4c154d7",
   "metadata": {},
   "outputs": [
    {
     "data": {
      "text/plain": [
       "16                  poor taste\n",
       "26             Nasty No flavor\n",
       "57       How can you go wrong!\n",
       "61            pretty expensive\n",
       "62              stale product.\n",
       "                 ...          \n",
       "54185                 Horrible\n",
       "54186            Horrible idea\n",
       "54191                    STALE\n",
       "54212             Disappointed\n",
       "54251      Just not very good!\n",
       "Name: Summary, Length: 4659, dtype: object"
      ]
     },
     "execution_count": 130,
     "metadata": {},
     "output_type": "execute_result"
    }
   ],
   "source": [
    "sample_negative['Summary']"
   ]
  },
  {
   "cell_type": "code",
   "execution_count": 131,
   "id": "0ae953cc",
   "metadata": {},
   "outputs": [],
   "source": [
    "from collections import Counter"
   ]
  },
  {
   "cell_type": "code",
   "execution_count": 133,
   "id": "dddcc9ad",
   "metadata": {},
   "outputs": [
    {
     "data": {
      "text/plain": [
       "[('Disappointed', 44),\n",
       " ('Disappointing', 32),\n",
       " ('Bland', 18),\n",
       " ('Awful', 17),\n",
       " ('Not what I expected', 17),\n",
       " ('Terrible', 15),\n",
       " ('Horrible', 15),\n",
       " ('disappointed', 15),\n",
       " ('Disgusting', 12),\n",
       " ('not good', 11)]"
      ]
     },
     "execution_count": 133,
     "metadata": {},
     "output_type": "execute_result"
    }
   ],
   "source": [
    "Counter(sample_negative['Summary']).most_common(10)"
   ]
  },
  {
   "cell_type": "code",
   "execution_count": null,
   "id": "6a8f4630",
   "metadata": {},
   "outputs": [],
   "source": []
  },
  {
   "cell_type": "code",
   "execution_count": null,
   "id": "d43b71b7",
   "metadata": {},
   "outputs": [],
   "source": []
  },
  {
   "cell_type": "code",
   "execution_count": null,
   "id": "0780a15a",
   "metadata": {},
   "outputs": [],
   "source": []
  },
  {
   "cell_type": "code",
   "execution_count": null,
   "id": "49435599",
   "metadata": {},
   "outputs": [],
   "source": []
  },
  {
   "cell_type": "code",
   "execution_count": null,
   "id": "63d42069",
   "metadata": {},
   "outputs": [],
   "source": []
  },
  {
   "cell_type": "code",
   "execution_count": null,
   "id": "c786abc8",
   "metadata": {},
   "outputs": [],
   "source": []
  },
  {
   "cell_type": "code",
   "execution_count": null,
   "id": "0c6dde32",
   "metadata": {},
   "outputs": [],
   "source": []
  }
 ],
 "metadata": {
  "kernelspec": {
   "display_name": "Python 3 (ipykernel)",
   "language": "python",
   "name": "python3"
  },
  "language_info": {
   "codemirror_mode": {
    "name": "ipython",
    "version": 3
   },
   "file_extension": ".py",
   "mimetype": "text/x-python",
   "name": "python",
   "nbconvert_exporter": "python",
   "pygments_lexer": "ipython3",
   "version": "3.11.3"
  }
 },
 "nbformat": 4,
 "nbformat_minor": 5
}
